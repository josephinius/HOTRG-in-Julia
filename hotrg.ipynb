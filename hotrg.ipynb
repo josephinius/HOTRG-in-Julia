{
 "cells": [
  {
   "cell_type": "markdown",
   "id": "d8ebed0f-d9da-48ae-ba11-372b6a84b99e",
   "metadata": {},
   "source": [
    "# HOTRG\n",
    "\n",
    "We implement the 2D HOTRG algorithm introduced in [Phys. Rev. B 86, 045139 (2012)](https://journals.aps.org/prb/abstract/10.1103/PhysRevB.86.045139). "
   ]
  },
  {
   "cell_type": "code",
   "execution_count": 1,
   "id": "db20bc32-cc49-4574-b12b-6b8f437bb187",
   "metadata": {},
   "outputs": [],
   "source": [
    "# using Pkg\n",
    "# Pkg.add(\"TensorOperations\")\n",
    "# Pkg.add(\"Einsum\")\n",
    "using TensorOperations\n",
    "using Einsum\n",
    "using LinearAlgebra\n",
    "using Printf"
   ]
  },
  {
   "cell_type": "code",
   "execution_count": 2,
   "id": "050cb9eb-4d3a-4635-9245-d38d8569a72b",
   "metadata": {},
   "outputs": [],
   "source": [
    "function create_w(temperature, field)\n",
    "    b = 1 / temperature\n",
    "    c = sqrt(cosh(b))\n",
    "    s = sqrt(sinh(b))\n",
    "    e1 = exp(b * field / 4)\n",
    "    e2 = exp(- b * field / 4)\n",
    "    w = [c * e1 s * e1; c * e2 -s * e2]\n",
    "    return w\n",
    "end;"
   ]
  },
  {
   "cell_type": "markdown",
   "id": "56aade45-664a-43bd-a867-b3c6754c2f04",
   "metadata": {},
   "source": [
    "Initializing local tensor and the impurity tensor. "
   ]
  },
  {
   "cell_type": "code",
   "execution_count": 3,
   "id": "d2ca119b-dd60-4aed-ab0a-3480dae3b7f2",
   "metadata": {},
   "outputs": [],
   "source": [
    "function initialize_bulk_tensor(temperature, field)\n",
    "    w = create_w(temperature, field)\n",
    "    @einsum ten_t[i,j,k,l] := w[a,i] * w[a,j] * w[a,k] * w[a,l]\n",
    "    return ten_t\n",
    "end;\n",
    "\n",
    "function initialize_imp_t(temperature, field)\n",
    "    w = create_w(temperature, field)\n",
    "    s = [1, -1]\n",
    "    @einsum imp_t[i,j,k,l] := s[a] * w[a,i] * w[a,j] * w[a,k] * w[a,l]\n",
    "    return imp_t\n",
    "end;"
   ]
  },
  {
   "cell_type": "markdown",
   "id": "07949336-7e2a-472f-834d-c263248f5439",
   "metadata": {},
   "source": [
    "Calculating matrices which are used for obtaining projectors in the next step. "
   ]
  },
  {
   "cell_type": "code",
   "execution_count": 4,
   "id": "e3100a77-e68e-4864-ae95-7674e1740a84",
   "metadata": {},
   "outputs": [],
   "source": [
    "function create_mm_left(t_up, t_down)\n",
    "    @tensor mm[:] := t_up[-1, 1, 2, 5] * t_down[-2, 3, 5, 4] * t_up[-3, 1, 2, 6] * t_down[-4, 3, 6, 4]\n",
    "    d1 = size(t_up)[1]\n",
    "    d2 = size(t_down)[1]\n",
    "    return reshape(mm, (d1 * d2, d1 * d2))\n",
    "end;"
   ]
  },
  {
   "cell_type": "code",
   "execution_count": 5,
   "id": "f1cfe7d7-1146-4ac8-9c7e-ecfd903f0d3f",
   "metadata": {},
   "outputs": [],
   "source": [
    "function create_mm_right(t_up, t_down)\n",
    "    @tensor mm[:] := t_up[1, -1, 2, 5] * t_down[3, -2, 5, 4] * t_up[1, -3, 2, 6] * t_down[3, -4, 6, 4]\n",
    "    d1 = size(t_up)[1]\n",
    "    d2 = size(t_down)[1]\n",
    "    return reshape(mm, (d1 * d2, d1 * d2))\n",
    "end;"
   ]
  },
  {
   "cell_type": "markdown",
   "id": "7d57711e-036f-4459-a52d-8459348babd0",
   "metadata": {},
   "source": [
    "Calculating the optimal projector (left or right). This step includes truncation."
   ]
  },
  {
   "cell_type": "code",
   "execution_count": 6,
   "id": "5df7bf76-646a-4691-8cca-a7b2b3f381fa",
   "metadata": {},
   "outputs": [],
   "source": [
    "function create_hotrg_projector_2d(dim, t_up, t_down)\n",
    "    mm_left = create_mm_left(t_up, t_down)\n",
    "    mm_right = create_mm_right(t_up, t_down)\n",
    "    F = svd(mm_left)\n",
    "    s1 = F.S\n",
    "    u1 = F.U\n",
    "    error_left = 0.\n",
    "    for i in (dim + 1):length(s1)\n",
    "        error_left += s1[i]\n",
    "    end\n",
    "    F = svd(mm_right)\n",
    "    s2 = F.S\n",
    "    u2 = F.U\n",
    "    error_right = 0.\n",
    "    for i in (dim + 1):length(s2)\n",
    "        error_right += s2[i]\n",
    "    end\n",
    "    if error_left <= error_right\n",
    "        dim_new = (length(s1) > dim) ? dim : length(s1)\n",
    "        return (u1[:, 1:dim_new], s1)\n",
    "    else\n",
    "        dim_new = (length(s2) > dim) ? dim : length(s2)\n",
    "        return (u2[:, 1:dim_new], s2)\n",
    "    end\n",
    "end;"
   ]
  },
  {
   "cell_type": "markdown",
   "id": "daaeeaf9-493c-4d46-8182-845f30e5e7e4",
   "metadata": {},
   "source": [
    "Updating the local tensor in an optimized way (theoretical computational cost $O(D^7)$, memory cost $O(D^4)$)."
   ]
  },
  {
   "cell_type": "code",
   "execution_count": 7,
   "id": "1bcde181-128a-43ea-95cd-ce3d519122b1",
   "metadata": {},
   "outputs": [],
   "source": [
    "function update_optimized(t_up, t_down, u_left, u_right)\n",
    "    dim_hor = size(u_left)[2]\n",
    "    dim_ver = size(t_up)[4]\n",
    "    dx_up = size(t_up)[1]\n",
    "    dx_down = size(t_down)[1]\n",
    "    u_left = reshape(u_left, (dx_up, dx_down, dim_hor))\n",
    "    u_right = reshape(u_right, (dx_up, dx_down, dim_hor))\n",
    "    res = zeros(dim_hor, dim_hor, dim_ver, dim_ver)\n",
    "    for a in 1:dim_ver\n",
    "        upper = t_up[:,:,:,a]\n",
    "        lower = t_down[:,:,a,:]\n",
    "        @tensor upperU[i,i2,j1,k] := u_left[i1,i2,i] * upper[i1,j1,k]\n",
    "        @tensor lowerU[i2,j,j1,l] := u_right[j1,j2,j] * lower[i2,j2,l]\n",
    "        @tensor temp[i,j,k,l] := upperU[i,i2,j1,k] * lowerU[i2,j,j1,l]\n",
    "        res += temp        \n",
    "    end\n",
    "    return res\n",
    "end;"
   ]
  },
  {
   "cell_type": "code",
   "execution_count": 8,
   "id": "b478f56b-30d8-4313-9f9e-3cfb480e9475",
   "metadata": {},
   "outputs": [],
   "source": [
    "\"\"\"\n",
    "          3                1\n",
    "          |                |\n",
    "      1 --o-- 2   -->  4 --o-- 3\n",
    "          |                |\n",
    "          4                2\n",
    "\"\"\"\n",
    "function tensor_rotate_clockwise(ten)\n",
    "    return permutedims(ten, (4, 3, 1, 2))\n",
    "end;"
   ]
  },
  {
   "cell_type": "code",
   "execution_count": 9,
   "id": "18f5d13a-62cd-4eed-9520-3fbdcfc8bb3d",
   "metadata": {},
   "outputs": [],
   "source": [
    "function calculate_free_energy_2d(temperature, list_of_norms)\n",
    "    rv = 0.\n",
    "    for i in 1:length(list_of_norms)\n",
    "        rv += log(list_of_norms[i]) / (2.0 ^ (i - 1))\n",
    "    end\n",
    "    return - temperature * rv\n",
    "end;"
   ]
  },
  {
   "cell_type": "code",
   "execution_count": 10,
   "id": "41f1edfe-f924-45c8-b3c6-3636dd6f04c8",
   "metadata": {},
   "outputs": [],
   "source": [
    "function calculate_entanglement_entropy(s)\n",
    "    v = s / sum(s)\n",
    "    entr = 0.\n",
    "    for x in v\n",
    "        if x > 1.e-14\n",
    "            entr += x * log(x)\n",
    "        end\n",
    "    end    \n",
    "    return -entr\n",
    "end;"
   ]
  },
  {
   "cell_type": "code",
   "execution_count": 11,
   "id": "ff4a1e5c-f3d7-4d9d-b5c9-998ba3403065",
   "metadata": {},
   "outputs": [],
   "source": [
    "function tensor_trace(ten)    \n",
    "    @einsum ten_t := ten[i,i,j,j]\n",
    "    return ten_t\n",
    "end;\n",
    "\n",
    "function calculate_expectation(ten, imp)\n",
    "    return tensor_trace(imp) / tensor_trace(ten)\n",
    "end;"
   ]
  },
  {
   "cell_type": "markdown",
   "id": "f42e2c67-3015-4d9a-8dba-698fa54707bd",
   "metadata": {},
   "source": [
    "Calculating converged free energy per site, magnetization, entanglement entropy (not converged) for given temperature, external field $h$, and bond dimension."
   ]
  },
  {
   "cell_type": "code",
   "execution_count": 12,
   "id": "ed30cb37-fc1b-4662-b723-a47761e845d0",
   "metadata": {},
   "outputs": [],
   "source": [
    "function hotrg(file_iter_name, temp, h, dim)\n",
    "    open(file_iter_name, \"a\") do f\n",
    "        write(f, \"# temp=$(temp)\\n\")\n",
    "        write(f, \"# iter\\tfree energy\\t\\tmag\\t\\t\\tentropy\\n\")\n",
    "    end\n",
    "    ten = initialize_bulk_tensor(temp, h)\n",
    "    imp = initialize_imp_t(temp, h)\n",
    "    list_of_norms = []\n",
    "    norm = maximum(abs, ten)\n",
    "    push!(list_of_norms, norm)\n",
    "    ten = ten / norm\n",
    "    imp = imp / norm\n",
    "    free_energy = 0\n",
    "    free_energy_new = -1\n",
    "    mag = 0.\n",
    "    mag_new = -1.\n",
    "    entanglement_entropy = 0\n",
    "    iter_count = 0\n",
    "    while abs(free_energy - free_energy_new) > 1.e-14 || abs(mag - mag_new) > 1.e-14\n",
    "        u, ss = create_hotrg_projector_2d(dim, ten, ten)        \n",
    "        imp = (update_optimized(imp, ten, u, u) + update_optimized(ten, imp, u, u)) / 2\n",
    "        ten = update_optimized(ten, ten, u, u)\n",
    "        norm = maximum(abs, ten)\n",
    "        push!(list_of_norms, norm)\n",
    "        ten = ten / norm\n",
    "        imp = imp / norm\n",
    "        free_energy = free_energy_new\n",
    "        free_energy_new = calculate_free_energy_2d(temp, list_of_norms)\n",
    "        mag = mag_new\n",
    "        mag_new = calculate_expectation(ten, imp)\n",
    "        entanglement_entropy = calculate_entanglement_entropy(ss)\n",
    "        open(file_iter_name, \"a\") do f\n",
    "            write(f, @sprintf(\"%d\\t%.15f\\t%.15f\\t%.15f\\n\", iter_count, free_energy_new, mag_new, entanglement_entropy))\n",
    "        end\n",
    "        ten = tensor_rotate_clockwise(ten)\n",
    "        imp = tensor_rotate_clockwise(imp)\n",
    "        iter_count += 1\n",
    "    end\n",
    "    return free_energy_new, mag_new, entanglement_entropy, iter_count\n",
    "end;"
   ]
  },
  {
   "cell_type": "markdown",
   "id": "ec9b141a-86b7-4053-8628-ed4b9403f178",
   "metadata": {},
   "source": [
    "Finally, we will calculate the profile of free energy, magnetization, and entanglement entropy w.r.t. temperature in a given range. "
   ]
  },
  {
   "cell_type": "code",
   "execution_count": 13,
   "id": "3b821eb9-9a72-4fa6-8637-b74bed50aeed",
   "metadata": {},
   "outputs": [],
   "source": [
    "dim = 10\n",
    "start_val = 2.\n",
    "end_val = 2.5\n",
    "num = 51\n",
    "field = 1.e-14\n",
    "\n",
    "file_name = \"data_dim$(dim).txt\"\n",
    "file_iter_name = \"data_iter_dim$(dim).txt\"\n",
    "\n",
    "open(file_name, \"w\") do f\n",
    "    write(f, \"# D=$(dim), h=$(field)\\n\")\n",
    "    write(f, \"# temp\\t\\t\\tfree energy\\t\\tmag\\t\\t\\tentropy\\t\\t\\titer\\n\")\n",
    "end\n",
    "\n",
    "open(file_iter_name, \"w\") do f\n",
    "    write(f, \"# D=$(dim), h=$(field)\\n\")\n",
    "end\n",
    "\n",
    "for temperature in range(start_val, stop=end_val, length=num)\n",
    "    free_energy, mag, entanglement_entropy, iter_count = hotrg(file_iter_name, temperature, field, dim)\n",
    "    open(file_name, \"a\") do f\n",
    "        write(f, @sprintf(\"%.15f\\t%.15f\\t%.15f\\t%.15f\\t%d\\n\", temperature, free_energy, mag, entanglement_entropy, iter_count))\n",
    "    end\n",
    "end"
   ]
  },
  {
   "cell_type": "code",
   "execution_count": null,
   "id": "8db29246-d14b-49c3-bb95-5a4da24c99d3",
   "metadata": {},
   "outputs": [],
   "source": []
  }
 ],
 "metadata": {
  "kernelspec": {
   "display_name": "Julia 1.10.4",
   "language": "julia",
   "name": "julia-1.10"
  },
  "language_info": {
   "file_extension": ".jl",
   "mimetype": "application/julia",
   "name": "julia",
   "version": "1.10.4"
  }
 },
 "nbformat": 4,
 "nbformat_minor": 5
}
